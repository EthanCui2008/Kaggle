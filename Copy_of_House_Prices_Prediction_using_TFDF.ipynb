{
  "metadata": {
    "kernelspec": {
      "language": "python",
      "display_name": "Python 3",
      "name": "python3"
    },
    "language_info": {
      "pygments_lexer": "ipython3",
      "nbconvert_exporter": "python",
      "version": "3.6.4",
      "file_extension": ".py",
      "codemirror_mode": {
        "name": "ipython",
        "version": 3
      },
      "name": "python",
      "mimetype": "text/x-python"
    },
    "kaggle": {
      "accelerator": "none",
      "dataSources": [
        {
          "sourceId": 5407,
          "databundleVersionId": 868283,
          "sourceType": "competition"
        }
      ],
      "dockerImageVersionId": 30407,
      "isInternetEnabled": false,
      "language": "python",
      "sourceType": "notebook",
      "isGpuEnabled": false
    },
    "colab": {
      "provenance": [],
      "include_colab_link": true
    }
  },
  "nbformat_minor": 0,
  "nbformat": 4,
  "cells": [
    {
      "cell_type": "markdown",
      "metadata": {
        "id": "view-in-github",
        "colab_type": "text"
      },
      "source": [
        "<a href=\"https://colab.research.google.com/github/EthanCui2008/Kaggle/blob/Main/Copy_of_House_Prices_Prediction_using_TFDF.ipynb\" target=\"_parent\"><img src=\"https://colab.research.google.com/assets/colab-badge.svg\" alt=\"Open In Colab\"/></a>"
      ]
    },
    {
      "cell_type": "code",
      "source": [
        " import tensorflow as tf\n",
        "import pandas as pd\n",
        "import seaborn as sns\n",
        "import matplotlib.pyplot as plt\n",
        "\n",
        "import os\n",
        "import sys\n",
        "from tempfile import NamedTemporaryFile\n",
        "from urllib.request import urlopen\n",
        "from urllib.parse import unquote, urlparse\n",
        "from urllib.error import HTTPError\n",
        "from zipfile import ZipFile\n",
        "import tarfile\n",
        "import shutil"
      ],
      "metadata": {
        "id": "IGmyjJJatzBZ",
        "papermill": {
          "duration": 8.300496,
          "end_time": "2023-03-07T06:21:48.118668",
          "exception": false,
          "start_time": "2023-03-07T06:21:39.818172",
          "status": "completed"
        },
        "tags": [],
        "trusted": true
      },
      "execution_count": null,
      "outputs": []
    },
    {
      "cell_type": "code",
      "source": [
        "train_file_path = \"train.csv\"\n",
        "dataset_df = pd.read_csv(train_file_path)\n",
        "df_num = dataset_df.select_dtypes(include = ['float64', 'int64'])\n",
        "df_num.head()\n",
        "print(\"Full train dataset shape is {}\".format(dataset_df.shape))"
      ],
      "metadata": {
        "id": "JVMPH_IDOBH2",
        "papermill": {
          "duration": 0.066785,
          "end_time": "2023-03-07T06:21:48.245226",
          "exception": false,
          "start_time": "2023-03-07T06:21:48.178441",
          "status": "completed"
        },
        "tags": [],
        "execution": {
          "iopub.status.busy": "2023-04-03T10:16:47.908792Z",
          "iopub.execute_input": "2023-04-03T10:16:47.909243Z",
          "iopub.status.idle": "2023-04-03T10:16:47.953669Z",
          "shell.execute_reply.started": "2023-04-03T10:16:47.909192Z",
          "shell.execute_reply": "2023-04-03T10:16:47.952207Z"
        },
        "trusted": true
      },
      "execution_count": null,
      "outputs": []
    },
    {
      "cell_type": "code",
      "source": [
        "test_file_path = \"test.csv\"\n",
        "test_data = pd.read_csv(test_file_path)\n",
        "ids = test_data.pop('Id')\n",
        "\n",
        "output = pd.DataFrame({'Id': ids,\n",
        "                       'SalePrice': preds.squeeze()})\n",
        "\n",
        "output.head()\n",
        "sample_submission_df = pd.read_csv('sample_submission.csv')\n",
        "sample_submission_df['SalePrice'] = rf.predict(test_ds)\n",
        "sample_submission_df.to_csv('/kaggle/working/submission.csv', index=False)\n",
        "sample_submission_df.head()"
      ],
      "metadata": {
        "papermill": {
          "duration": 1.717453,
          "end_time": "2023-03-07T06:22:16.215717",
          "exception": false,
          "start_time": "2023-03-07T06:22:14.498264",
          "status": "completed"
        },
        "tags": [],
        "id": "gLySv9yJ416s",
        "execution": {
          "iopub.status.busy": "2023-04-03T10:17:16.536967Z",
          "iopub.execute_input": "2023-04-03T10:17:16.537275Z",
          "iopub.status.idle": "2023-04-03T10:17:17.728149Z",
          "shell.execute_reply.started": "2023-04-03T10:17:16.537245Z",
          "shell.execute_reply": "2023-04-03T10:17:17.727075Z"
        },
        "trusted": true
      },
      "execution_count": null,
      "outputs": []
    }
  ]
}