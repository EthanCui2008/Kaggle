{
  "nbformat": 4,
  "nbformat_minor": 0,
  "metadata": {
    "colab": {
      "provenance": [],
      "mount_file_id": "1e0q9ZpcNcZinVYUccHbi0Z2CHevXtwbQ",
      "authorship_tag": "ABX9TyMoTw/GISjkYGQ/lT73G92q",
      "include_colab_link": true
    },
    "kernelspec": {
      "name": "python3",
      "display_name": "Python 3"
    },
    "language_info": {
      "name": "python"
    }
  },
  "cells": [
    {
      "cell_type": "markdown",
      "metadata": {
        "id": "view-in-github",
        "colab_type": "text"
      },
      "source": [
        "<a href=\"https://colab.research.google.com/github/EthanCui2008/Kaggle/blob/Main/Arxiv_Webscraper.ipynb\" target=\"_parent\"><img src=\"https://colab.research.google.com/assets/colab-badge.svg\" alt=\"Open In Colab\"/></a>"
      ]
    },
    {
      "cell_type": "code",
      "source": [
        "!pip install openai"
      ],
      "metadata": {
        "id": "sbYyKuz7FHwO"
      },
      "execution_count": null,
      "outputs": []
    },
    {
      "cell_type": "code",
      "source": [
        "!pip install python-dotenv"
      ],
      "metadata": {
        "colab": {
          "base_uri": "https://localhost:8080/"
        },
        "collapsed": true,
        "id": "uw0EGXBCJWuL",
        "outputId": "86f0e86e-65c8-4c91-abbb-cf48176158b4"
      },
      "execution_count": 12,
      "outputs": [
        {
          "output_type": "stream",
          "name": "stdout",
          "text": [
            "Collecting python-dotenv\n",
            "  Downloading python_dotenv-1.0.1-py3-none-any.whl.metadata (23 kB)\n",
            "Downloading python_dotenv-1.0.1-py3-none-any.whl (19 kB)\n",
            "Installing collected packages: python-dotenv\n",
            "Successfully installed python-dotenv-1.0.1\n"
          ]
        }
      ]
    },
    {
      "cell_type": "code",
      "source": [
        "!pip install pylatexenc"
      ],
      "metadata": {
        "colab": {
          "base_uri": "https://localhost:8080/"
        },
        "collapsed": true,
        "id": "pf7AAT5SBFnf",
        "outputId": "117824e3-f97c-41ad-e63b-a7c498972e5b"
      },
      "execution_count": 50,
      "outputs": [
        {
          "output_type": "stream",
          "name": "stdout",
          "text": [
            "Collecting pylatexenc\n",
            "  Downloading pylatexenc-2.10.tar.gz (162 kB)\n",
            "\u001b[?25l     \u001b[90m━━━━━━━━━━━━━━━━━━━━━━━━━━━━━━━━━━━━━━━━\u001b[0m \u001b[32m0.0/162.6 kB\u001b[0m \u001b[31m?\u001b[0m eta \u001b[36m-:--:--\u001b[0m\r\u001b[2K     \u001b[90m━━━━━━━━━━━━━━━━━━━━━━━━━━━━━━━━━━━━━━━━\u001b[0m \u001b[32m162.6/162.6 kB\u001b[0m \u001b[31m4.9 MB/s\u001b[0m eta \u001b[36m0:00:00\u001b[0m\n",
            "\u001b[?25h  Preparing metadata (setup.py) ... \u001b[?25l\u001b[?25hdone\n",
            "Building wheels for collected packages: pylatexenc\n",
            "  Building wheel for pylatexenc (setup.py) ... \u001b[?25l\u001b[?25hdone\n",
            "  Created wheel for pylatexenc: filename=pylatexenc-2.10-py3-none-any.whl size=136817 sha256=862d1353ef0d6797a64efd97643da23da57f77ef4a796b8a9dee38c72affbf13\n",
            "  Stored in directory: /root/.cache/pip/wheels/d3/31/8b/e09b0386afd80cfc556c00408c9aeea5c35c4d484a9c762fd5\n",
            "Successfully built pylatexenc\n",
            "Installing collected packages: pylatexenc\n",
            "Successfully installed pylatexenc-2.10\n"
          ]
        }
      ]
    },
    {
      "cell_type": "code",
      "source": [
        "!pip install beautifulsoup4"
      ],
      "metadata": {
        "colab": {
          "base_uri": "https://localhost:8080/"
        },
        "id": "RpbWNZBdJi9n",
        "outputId": "fa32144b-01b4-41b4-984a-fa1e2a926b61"
      },
      "execution_count": 82,
      "outputs": [
        {
          "output_type": "stream",
          "name": "stdout",
          "text": [
            "Requirement already satisfied: beautifulsoup4 in /usr/local/lib/python3.10/dist-packages (4.12.3)\n",
            "Requirement already satisfied: soupsieve>1.2 in /usr/local/lib/python3.10/dist-packages (from beautifulsoup4) (2.6)\n"
          ]
        }
      ]
    },
    {
      "cell_type": "code",
      "execution_count": 84,
      "metadata": {
        "id": "q6Du69zZhOrw"
      },
      "outputs": [],
      "source": [
        "import requests\n",
        "import tarfile\n",
        "import io\n",
        "import re\n",
        "import os\n",
        "import json"
      ]
    },
    {
      "cell_type": "code",
      "source": [
        "from pylatexenc.latexwalker import LatexWalker, LatexGroupNode, LatexMacroNode, LatexEnvironmentNode"
      ],
      "metadata": {
        "id": "9_-Fm3XVBC9K"
      },
      "execution_count": 57,
      "outputs": []
    },
    {
      "cell_type": "code",
      "source": [
        "from dotenv import load_dotenv\n",
        "load_dotenv('Key.env')"
      ],
      "metadata": {
        "colab": {
          "base_uri": "https://localhost:8080/"
        },
        "id": "61Zq6Oo0KRqk",
        "outputId": "424aa8fd-172f-4c00-c7ca-155ca28f3d60"
      },
      "execution_count": 17,
      "outputs": [
        {
          "output_type": "execute_result",
          "data": {
            "text/plain": [
              "True"
            ]
          },
          "metadata": {},
          "execution_count": 17
        }
      ]
    },
    {
      "cell_type": "code",
      "source": [
        "from openai import OpenAI"
      ],
      "metadata": {
        "id": "yqvcXNP2Gxcx"
      },
      "execution_count": 88,
      "outputs": []
    },
    {
      "cell_type": "code",
      "source": [
        "from google.colab import drive\n",
        "directory_path = '/content/drive/MyDrive/Arxiv_Project[Temp]'\n",
        "os.chdir(directory_path)"
      ],
      "metadata": {
        "id": "iiFFSC5CHI-L"
      },
      "execution_count": 9,
      "outputs": []
    },
    {
      "cell_type": "code",
      "source": [
        "#Make this a repeatable call to scrape Arxiv\n",
        "\n",
        "url = 'https://arxiv.org/pdf/1706.03762'\n",
        "response = requests.get(url)"
      ],
      "metadata": {
        "id": "exvexagRFX9M"
      },
      "execution_count": 98,
      "outputs": []
    },
    {
      "cell_type": "code",
      "source": [
        "functions = [\n",
        "    {\n",
        "        \"name\": \"extract_researcher_info\",\n",
        "        \"description\": \"Extracts researcher names and their organizations from a given text.\",\n",
        "        \"parameters\": {\n",
        "            \"type\": \"object\",\n",
        "            \"properties\": {\n",
        "                \"text\": {\n",
        "                    \"type\": \"string\",\n",
        "                    \"description\": \"The text containing researcher names and their organizations.\"\n",
        "                },\n",
        "            },\n",
        "            \"required\": [\"text\"],\n",
        "        },\n",
        "    }\n",
        "]"
      ],
      "metadata": {
        "id": "xEZyRWlOYzWI"
      },
      "execution_count": 85,
      "outputs": []
    },
    {
      "cell_type": "code",
      "source": [
        "#Used to extract relevant parts of a Latex file to be function called\n",
        "\n",
        "def extract_block(latex_text, block_name):\n",
        "    #Initializes the walker for Latex\n",
        "    walker = LatexWalker(latex_text)\n",
        "    nodelist, pos, length = walker.get_latex_nodes()\n",
        "\n",
        "    block = None\n",
        "\n",
        "    #Loops through nodelist\n",
        "    for node in nodelist:\n",
        "        #Checks if latex node is a macro_node[big node], and is also the desired blockname\n",
        "        if isinstance(node, LatexMacroNode) and node.macroname == block_name:\n",
        "            #Capture all content in latex node block\n",
        "            block = ''.join(\n",
        "                arg.latex_verbatim() for arg in node.nodeargd.argnlist\n",
        "            )\n",
        "            break\n",
        "    return block"
      ],
      "metadata": {
        "id": "RkzsU8ok94H7"
      },
      "execution_count": 99,
      "outputs": []
    },
    {
      "cell_type": "code",
      "source": [
        "#Extracts tar.gz file from arxiv to anaylize\n",
        "\n",
        "#r:gz unzips as a tar.gz file\n",
        "#fileobj=io.BytesIO means it accepts the data from a webstream, meaning it does need to be written to disk\n",
        "with tarfile.open(fileobj=io.BytesIO(response.content), mode='r:gz') as tar:\n",
        "\n",
        "    #replace with function that finds the main .tex file\n",
        "    tar_info = tar.getmember('ms.tex')\n",
        "\n",
        "    #extracts tar file, then reads as text -> feed into\n",
        "    with tar.extractfile(tar_info) as file:\n",
        "        content = file.read().decode('utf-8')"
      ],
      "metadata": {
        "id": "kmPVa3nfi2wz"
      },
      "execution_count": 79,
      "outputs": []
    },
    {
      "cell_type": "code",
      "source": [
        "author_block = extract_block(content, 'author')"
      ],
      "metadata": {
        "id": "yJpAPANwR1Vl"
      },
      "execution_count": 83,
      "outputs": []
    },
    {
      "cell_type": "code",
      "source": [
        "print(author_block)"
      ],
      "metadata": {
        "colab": {
          "base_uri": "https://localhost:8080/"
        },
        "id": "HZIUIGgZZ35F",
        "outputId": "cfc04419-e8ae-4881-a4b4-48496b534624"
      },
      "execution_count": 97,
      "outputs": [
        {
          "output_type": "stream",
          "name": "stdout",
          "text": [
            "{\n",
            "  \\AND\n",
            "  Ashish Vaswani\\thanks{Equal contribution. Listing order is random. Jakob proposed replacing RNNs with self-attention and started the effort to evaluate this idea.\n",
            "Ashish, with Illia, designed and implemented the first Transformer models and has been crucially involved in every aspect of this work. Noam proposed scaled dot-product attention, multi-head attention and the parameter-free position representation and became the other person involved in nearly every detail. Niki designed, implemented, tuned and evaluated countless model variants in our original codebase and tensor2tensor. Llion also experimented with novel model variants, was responsible for our initial codebase, and efficient inference and visualizations. Lukasz and Aidan spent countless long days designing various parts of and implementing tensor2tensor, replacing our earlier codebase, greatly improving results and massively accelerating our research.\n",
            "}\\\\\n",
            "  Google Brain\\\\\n",
            "  \\texttt{avaswani@google.com}\\\\\n",
            "  \\And\n",
            "  Noam Shazeer\\footnotemark[1]\\\\\n",
            "  Google Brain\\\\\n",
            "  \\texttt{noam@google.com}\\\\\n",
            "  \\And\n",
            "  Niki Parmar\\footnotemark[1]\\\\\n",
            "  Google Research\\\\\n",
            "  \\texttt{nikip@google.com}\\\\  \n",
            "  \\And\n",
            "  Jakob Uszkoreit\\footnotemark[1]\\\\\n",
            "  Google Research\\\\\n",
            "  \\texttt{usz@google.com}\\\\\n",
            "  \\And  \n",
            "  Llion Jones\\footnotemark[1]\\\\\n",
            "  Google Research\\\\\n",
            "  \\texttt{llion@google.com}\\\\   \n",
            "  \\And\n",
            "  Aidan N. Gomez\\footnotemark[1] \\hspace{1.7mm}\\thanks{Work performed while at Google Brain.}\\\\\n",
            "  University of Toronto\\\\\n",
            "  \\texttt{aidan@cs.toronto.edu}\n",
            "  \\And\n",
            "  {\\L}ukasz Kaiser\\footnotemark[1]\\\\\n",
            "  Google Brain\\\\\n",
            "  \\texttt{lukaszkaiser@google.com}\\\\\n",
            "  \\And\n",
            "  Illia Polosukhin\\footnotemark[1]\\hspace{1.7mm} \\thanks{Work performed while at Google Research.}\\\\\n",
            "  \\texttt{illia.polosukhin@gmail.com}\\\\  \n",
            "}\n"
          ]
        }
      ]
    },
    {
      "cell_type": "code",
      "source": [
        "\n",
        "# API call to GPT-4 with function calling\n",
        "\n",
        "client = OpenAI(\n",
        "    # This is the default and can be omitted\n",
        "    api_key=os.getenv(\"API_KEY\"),\n",
        ")\n",
        "response = client.chat.completions.create(\n",
        "    model=\"gpt-4-0613\",  # Model that supports function calling\n",
        "    messages=[\n",
        "        {\"role\": \"system\", \"content\": \"You are an AI that extracts names and their organizations.\"},\n",
        "        {\"role\": \"user\", \"content\": f\"Extract researcher names and their organizations from the following text: {author_block}\"},\n",
        "    ],\n",
        "    functions=functions,\n",
        "    function_call={\"name\": \"extract_researcher_info\"},  # Force the function call\n",
        ")\n"
      ],
      "metadata": {
        "colab": {
          "base_uri": "https://localhost:8080/"
        },
        "id": "isvieUU7UJKh",
        "outputId": "06b8c32d-4de2-4181-e1d2-dc9ca0ea874d"
      },
      "execution_count": 93,
      "outputs": [
        {
          "output_type": "stream",
          "name": "stdout",
          "text": [
            "[Choice(finish_reason='stop', index=0, logprobs=None, message=ChatCompletionMessage(content=None, refusal=None, role='assistant', function_call=FunctionCall(arguments='{\\n  \"text\": \"Ashish Vaswani\\\\\\\\nGoogle Brain\\\\\\\\navaswani@google.com\\\\\\\\Noam Shazeer\\\\\\\\nGoogle Brain\\\\\\\\nnoam@google.com\\\\\\\\Niki Parmar\\\\\\\\nGoogle Research\\\\\\\\nnikip@google.com\\\\\\\\Jakob Uszkoreit\\\\\\\\nGoogle Research\\\\\\\\nusz@google.com\\\\\\\\Llion Jones\\\\\\\\nGoogle Research\\\\\\\\nllion@google.com\\\\\\\\Aidan N. Gomez\\\\\\\\nUniversity of Toronto\\\\\\\\naidan@cs.toronto.edu\\\\\\\\{\\\\L}ukasz Kaiser\\\\\\\\nGoogle Brain\\\\\\\\nlukaszkaiser@google.com\\\\\\\\Illia Polosukhin\\\\\\\\nillia.polosukhin@gmail.com\"\\n}', name='extract_researcher_info'), tool_calls=None))]\n"
          ]
        }
      ]
    },
    {
      "cell_type": "code",
      "source": [
        "print(response.function_call.arguments)"
      ],
      "metadata": {
        "colab": {
          "base_uri": "https://localhost:8080/",
          "height": 273
        },
        "id": "KxpSYcM2Zqqp",
        "outputId": "449fb84a-39bd-475b-a0e7-7f08771f6a4e"
      },
      "execution_count": 96,
      "outputs": [
        {
          "output_type": "error",
          "ename": "AttributeError",
          "evalue": "'ChatCompletion' object has no attribute 'function_call'",
          "traceback": [
            "\u001b[0;31m---------------------------------------------------------------------------\u001b[0m",
            "\u001b[0;31mAttributeError\u001b[0m                            Traceback (most recent call last)",
            "\u001b[0;32m<ipython-input-96-c0b0039001a4>\u001b[0m in \u001b[0;36m<cell line: 1>\u001b[0;34m()\u001b[0m\n\u001b[0;32m----> 1\u001b[0;31m \u001b[0mprint\u001b[0m\u001b[0;34m(\u001b[0m\u001b[0mresponse\u001b[0m\u001b[0;34m.\u001b[0m\u001b[0mfunction_call\u001b[0m\u001b[0;34m.\u001b[0m\u001b[0marguments\u001b[0m\u001b[0;34m)\u001b[0m\u001b[0;34m\u001b[0m\u001b[0;34m\u001b[0m\u001b[0m\n\u001b[0m",
            "\u001b[0;32m/usr/local/lib/python3.10/dist-packages/pydantic/main.py\u001b[0m in \u001b[0;36m__getattr__\u001b[0;34m(self, item)\u001b[0m\n\u001b[1;32m    826\u001b[0m                     \u001b[0;32melse\u001b[0m\u001b[0;34m:\u001b[0m\u001b[0;34m\u001b[0m\u001b[0;34m\u001b[0m\u001b[0m\n\u001b[1;32m    827\u001b[0m                         \u001b[0;31m# this is the current error\u001b[0m\u001b[0;34m\u001b[0m\u001b[0;34m\u001b[0m\u001b[0m\n\u001b[0;32m--> 828\u001b[0;31m                         \u001b[0;32mraise\u001b[0m \u001b[0mAttributeError\u001b[0m\u001b[0;34m(\u001b[0m\u001b[0;34mf'{type(self).__name__!r} object has no attribute {item!r}'\u001b[0m\u001b[0;34m)\u001b[0m\u001b[0;34m\u001b[0m\u001b[0;34m\u001b[0m\u001b[0m\n\u001b[0m\u001b[1;32m    829\u001b[0m \u001b[0;34m\u001b[0m\u001b[0m\n\u001b[1;32m    830\u001b[0m         \u001b[0;32mdef\u001b[0m \u001b[0m__setattr__\u001b[0m\u001b[0;34m(\u001b[0m\u001b[0mself\u001b[0m\u001b[0;34m,\u001b[0m \u001b[0mname\u001b[0m\u001b[0;34m:\u001b[0m \u001b[0mstr\u001b[0m\u001b[0;34m,\u001b[0m \u001b[0mvalue\u001b[0m\u001b[0;34m:\u001b[0m \u001b[0mAny\u001b[0m\u001b[0;34m)\u001b[0m \u001b[0;34m->\u001b[0m \u001b[0;32mNone\u001b[0m\u001b[0;34m:\u001b[0m\u001b[0;34m\u001b[0m\u001b[0;34m\u001b[0m\u001b[0m\n",
            "\u001b[0;31mAttributeError\u001b[0m: 'ChatCompletion' object has no attribute 'function_call'"
          ]
        }
      ]
    }
  ]
}